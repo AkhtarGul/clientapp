{
 "cells": [
  {
   "cell_type": "code",
   "execution_count": null,
   "metadata": {
    "dotnet_interactive": {
     "language": "csharp"
    }
   },
   "outputs": [
    {
     "name": "stdout",
     "output_type": "stream",
     "text": [
      "var key:22, dyamic is:223\r\n"
     ]
    },
    {
     "data": {
      "text/html": [
       "<table><thead><tr><th>FirstName</th><th>LastName</th><th>Age</th><th>IsEnrolled</th></tr></thead><tbody><tr><td><div class=\"dni-plaintext\">ali</div></td><td><div class=\"dni-plaintext\">khan</div></td><td><div class=\"dni-plaintext\">0</div></td><td><div class=\"dni-plaintext\">True</div></td></tr></tbody></table>"
      ]
     },
     "metadata": {},
     "output_type": "display_data"
    },
    {
     "data": {
      "text/html": [
       "<table><thead><tr><th>FirstName</th><th>LastName</th><th>Age</th><th>IsEnrolled</th></tr></thead><tbody><tr><td><div class=\"dni-plaintext\">ali</div></td><td><div class=\"dni-plaintext\">khan</div></td><td><div class=\"dni-plaintext\">30</div></td><td><div class=\"dni-plaintext\">False</div></td></tr></tbody></table>"
      ]
     },
     "metadata": {},
     "output_type": "display_data"
    }
   ],
   "source": [
    "// Learn C# with CSharpFritz\n",
    "//reference type and value types(string,bool etc..)\n",
    "//value type:int long etc.\n",
    "//refernce type:string,dynamic.\n",
    "var i=22f;\n",
    "dynamic x=223;\n",
    "\n",
    "Console.WriteLine($\"var key:{i}, dyamic is:{x}\");\n",
    "\n",
    "//reference type \n",
    "public class student{\n",
    "    \n",
    "    //constructor\n",
    "    public student()\n",
    "    {\n",
    "        //A student is enrolled by default\n",
    "        IsEnrolled=true;\n",
    "    }\n",
    "    public student(int age)\n",
    "    {\n",
    "        //A student is enrolled by default\n",
    "        this.Age=age;\n",
    "    }\n",
    "\n",
    "\n",
    "    public string FirstName{get;set;}=\"ali\";\n",
    "    public string LastName{get;set;}=\"khan\";\n",
    "    public int Age{get;internal set;}\n",
    "    public bool IsEnrolled{get;set;}\n",
    "};\n",
    "//create new studen obj;\n",
    "var s =new student(30);\n",
    "var someStudent=new student();\n",
    "someStudent.Display();\n",
    "\n",
    "// s.Age=22;\n",
    "// s.IsEnrolled=true;\n",
    "// Console.WriteLine(s.FirstName);\n",
    "s.Display();"
   ]
  },
  {
   "cell_type": "code",
   "execution_count": null,
   "metadata": {
    "dotnet_interactive": {
     "language": "csharp"
    }
   },
   "outputs": [
    {
     "data": {
      "text/html": [
       "<div class=\"dni-plaintext\">0.95</div>"
      ]
     },
     "metadata": {},
     "output_type": "display_data"
    },
    {
     "data": {
      "text/html": [
       "<div class=\"dni-plaintext\">True</div>"
      ]
     },
     "metadata": {},
     "output_type": "display_data"
    },
    {
     "data": {
      "text/plain": [
       "student Id:1234567"
      ]
     },
     "metadata": {},
     "output_type": "display_data"
    },
    {
     "data": {
      "text/plain": [
       "Year:2022"
      ]
     },
     "metadata": {},
     "output_type": "display_data"
    },
    {
     "data": {
      "text/html": [
       "<div class=\"dni-plaintext\">2021</div>"
      ]
     },
     "metadata": {},
     "output_type": "display_data"
    },
    {
     "data": {
      "text/html": [
       "<div class=\"dni-plaintext\">2021</div>"
      ]
     },
     "metadata": {},
     "output_type": "display_data"
    }
   ],
   "source": [
    "//Mehtods ,Events and Delegates\n",
    "class student{\n",
    "    //Mehtod\n",
    "    public void Enroll(){\n",
    "            //do enrollment steps\n",
    "    }\n",
    "    public bool Enroll(short year,out string studentId){\n",
    "        // Enrollment code\n",
    "        studentId=\"1234567\";\n",
    "        return true;\n",
    "    }\n",
    "    internal void LeaveClassEarly(DateTime departureTime){\n",
    "            //Leave class code\n",
    "    }\n",
    "    public decimal CalcluateGradeForClass(string className){\n",
    "        return 0.95m;\n",
    "    }\n",
    "    public void DoSomeThing(ref int value){\n",
    "        value++;\n",
    "        display(value);\n",
    "    }\n",
    "};\n",
    "var s=new student();\n",
    "display(s.CalcluateGradeForClass(\"Team Lively\"));\n",
    "string id=\"\";\n",
    "short year=2022;\n",
    "display(s.Enroll(year,out id));\n",
    "display(\"student Id:\"+id);\n",
    "display(\"Year:\"+year);\n",
    "int myValue=2020;\n",
    "s.DoSomeThing(ref myValue);\n",
    "display(myValue);\n",
    "\n",
    "//Out and Ref type\n"
   ]
  },
  {
   "cell_type": "code",
   "execution_count": null,
   "metadata": {
    "dotnet_interactive": {
     "language": "csharp"
    }
   },
   "outputs": [
    {
     "ename": "Error",
     "evalue": "(7,5): error CS1002: ; expected\r\n(7,11): error CS8515: Parentheses are required around the switch governing expression.\r\n(7,11): error CS1525: Invalid expression term '='\r\n(7,29): error CS1514: { expected\r\n(7,29): error CS1513: } expected",
     "output_type": "error",
     "traceback": [
      "(7,5): error CS1002: ; expected\r\n",
      "(7,11): error CS8515: Parentheses are required around the switch governing expression.\r\n",
      "(7,11): error CS1525: Invalid expression term '='\r\n",
      "(7,29): error CS1514: { expected\r\n",
      "(7,29): error CS1513: } expected"
     ]
    }
   ],
   "source": [
    "//Enumarations\n",
    "\n",
    "public enum LightSwitch{\n",
    "    off,\n",
    "    on\n",
    "};\n",
    "var switch=new LightSwicth();\n",
    "\n"
   ]
  },
  {
   "cell_type": "code",
   "execution_count": null,
   "metadata": {
    "dotnet_interactive": {
     "language": "csharp"
    }
   },
   "outputs": [
    {
     "data": {
      "text/html": [
       "<div class=\"dni-plaintext\">120</div>"
      ]
     },
     "metadata": {},
     "output_type": "display_data"
    },
    {
     "data": {
      "text/html": [
       "<div class=\"dni-plaintext\">1000</div>"
      ]
     },
     "metadata": {},
     "output_type": "display_data"
    },
    {
     "data": {
      "text/html": [
       "<div class=\"dni-plaintext\">9</div>"
      ]
     },
     "metadata": {},
     "output_type": "display_data"
    }
   ],
   "source": [
    "public class PM {\n",
    "    public string value { get; set; }\n",
    "    public int id { get; set; }\n",
    "}\n",
    "\n",
    "public class Holder {\n",
    "    public string Name {get; set;}\n",
    "\n",
    "        \n",
    "}\n",
    "\n",
    "var values = new List<PM> {\n",
    "    // new PM {\n",
    "    //     value =\"40\",\n",
    "    //     id = 2,\n",
    "    // },\n",
    "    // new PM {\n",
    "    //     value =\"120\",\n",
    "    //     id = 2,\n",
    "    // },\n",
    "    // new PM {\n",
    "    //     value =\"30\",\n",
    "    //     id = 2,\n",
    "    // },\n",
    "\n",
    "    new PM {\n",
    "        value =\"340\",\n",
    "        id = 5,\n",
    "    },\n",
    "    new PM {\n",
    "        value =\"20\",\n",
    "        id = 5,\n",
    "    },\n",
    "    new PM {\n",
    "        value =\"230\",\n",
    "        id = 5,\n",
    "    },\n",
    "    new PM {\n",
    "        value =\"1000\",\n",
    "        id = 5,\n",
    "    },\n",
    "     \n",
    "    new PM {\n",
    "        value =\"3\",\n",
    "        id = 50,\n",
    "    },\n",
    "    new PM {\n",
    "        value =\"5\",\n",
    "        id = 50,\n",
    "    },\n",
    "    new PM {\n",
    "        value =\"9\",\n",
    "        id = 50,\n",
    "    }, \n",
    "};\n",
    ";\n",
    "// var listMax = values.OrderByDescending(x => int.Parse(x.value))\n",
    "//     // .OrderBy(x => x.id);\n",
    "//     .DistinctBy(x=>x.id);\n",
    "//     listMax.Display();\n",
    "var listMax=values.GroupBy(x=>x.id);\n",
    "// listMax;\n",
    "foreach(var item in listMax){\n",
    "    // (item.Max(x=>int.Parse(x)));\n",
    "    var itemMax=item.Max(x=>int.Parse(x.value));\n",
    "    // itemMax.Display(item.Key);\n",
    "    itemMax.Display();\n",
    "}\n",
    "/* \n",
    "[\n",
    "    {\n",
    "    value =\"1000\",\n",
    "    id = 5,\n",
    "    },\n",
    "    {\n",
    "        value =\"120\",\n",
    "        id = 2,\n",
    "    },\n",
    "    {\n",
    "        value =\"9\",\n",
    "        id = 50,\n",
    "    }\n",
    "]\n",
    "*/"
   ]
  },
  {
   "cell_type": "code",
   "execution_count": null,
   "metadata": {
    "dotnet_interactive": {
     "language": "csharp"
    }
   },
   "outputs": [
    {
     "data": {
      "text/html": [
       "<table><thead><tr><th><i>index</i></th><th>Name</th><th>PMs</th></tr></thead><tbody><tr><td>0</td><td>Faisal</td><td><div class=\"dni-plaintext\">[ { Submission#12+PM: value: 40, id: 2 }, { Submission#12+PM: value: 120, id: 2 }, { Submission#12+PM: value: 30, id: 2 } ]</div></td></tr><tr><td>1</td><td>Jawad</td><td><div class=\"dni-plaintext\">[ { Submission#12+PM: value: 3, id: 50 }, { Submission#12+PM: value: 5, id: 50 }, { Submission#12+PM: value: 9, id: 15 } ]</div></td></tr><tr><td>2</td><td>Waqar</td><td><div class=\"dni-plaintext\">[ { Submission#12+PM: value: 340, id: 2 }, { Submission#12+PM: value: 20, id: 15 }, { Submission#12+PM: value: 230, id: 5 }, { Submission#12+PM: value: 1000, id: 5 } ]</div></td></tr></tbody></table>"
      ]
     },
     "metadata": {},
     "output_type": "display_data"
    }
   ],
   "source": [
    "var holders = new List<Holder> {\n",
    "    new Holder {\n",
    "        Name = \"Faisal\",\n",
    "        PMs = new List<PM> {\n",
    "            // new PM {\n",
    "            //     value =\"40\",\n",
    "            //     id = 2,\n",
    "            // },\n",
    "            // new PM {\n",
    "            //     value =\"120\",\n",
    "            //     id = 2,\n",
    "            // },\n",
    "            // new PM {\n",
    "            //     value =\"30\",\n",
    "            //     id = 2,\n",
    "            // },\n",
    "        }\n",
    "    },\n",
    "    new Holder {\n",
    "        Name = \"Jawad\",\n",
    "        PMs = new List<PM> {\n",
    "            // new PM {\n",
    "            //     value =\"3\",\n",
    "            //     id = 50,\n",
    "            // },\n",
    "            new PM {\n",
    "                value =\"5\",\n",
    "                id = 50,\n",
    "            },\n",
    "            // new PM {\n",
    "            //     value =\"9\",\n",
    "            //     id = 15,\n",
    "            // }, \n",
    "        }\n",
    "    },\n",
    "    new Holder {\n",
    "        Name = \"Waqar\",\n",
    "        PMs = new List<PM> {\n",
    "            new PM {\n",
    "                value =\"340\",\n",
    "                id = 2,\n",
    "            },\n",
    "            new PM {\n",
    "                value =\"20\",\n",
    "                id = 15,\n",
    "            },\n",
    "            // new PM {\n",
    "            //     value =\"230\",\n",
    "            //     id = 5,\n",
    "            // },\n",
    "            new PM {\n",
    "                value =\"1000\",\n",
    "                id = 5,\n",
    "            },\n",
    "             \n",
    "        }\n",
    "    },\n",
    "};\n",
    "holders.Display();"
   ]
  },
  {
   "cell_type": "code",
   "execution_count": null,
   "metadata": {
    "dotnet_interactive": {
     "language": "csharp"
    }
   },
   "outputs": [
    {
     "data": {
      "text/html": [
       "<div class=\"dni-plaintext\">120</div>"
      ]
     },
     "metadata": {},
     "output_type": "display_data"
    },
    {
     "data": {
      "text/html": [
       "<div class=\"dni-plaintext\">1000</div>"
      ]
     },
     "metadata": {},
     "output_type": "display_data"
    },
    {
     "data": {
      "text/html": [
       "<div class=\"dni-plaintext\">9</div>"
      ]
     },
     "metadata": {},
     "output_type": "display_data"
    }
   ],
   "source": [
    "public class PM {\n",
    "    public string value { get; set; }\n",
    "    public int id { get; set; }\n",
    "}\n",
    "var values = new List<PM> {\n",
    "    new PM {\n",
    "        value =\"40\",\n",
    "        id = 2,\n",
    "    },\n",
    "    new PM {\n",
    "        value =\"120\",\n",
    "        id = 2,\n",
    "    },\n",
    "    new PM {\n",
    "        value =\"30\",\n",
    "        id = 2,\n",
    "    },\n",
    "\n",
    "    new PM {\n",
    "        value =\"340\",\n",
    "        id = 5,\n",
    "    },\n",
    "    new PM {\n",
    "        value =\"20\",\n",
    "        id = 5,\n",
    "    },\n",
    "    new PM {\n",
    "        value =\"230\",\n",
    "        id = 5,\n",
    "    },\n",
    "    new PM {\n",
    "        value =\"1000\",\n",
    "        id = 5,\n",
    "    },\n",
    "     \n",
    "    new PM {\n",
    "        value =\"3\",\n",
    "        id = 50,\n",
    "    },\n",
    "    new PM {\n",
    "        value =\"5\",\n",
    "        id = 50,\n",
    "    },\n",
    "    new PM {\n",
    "        value =\"9\",\n",
    "        id = 50,\n",
    "    }, \n",
    "};\n",
    "//50=>9\n",
    "//5=>1000\n",
    "\n",
    "// values;\n",
    "var list=values.GroupBy(x=>x.id);\n",
    "foreach(var item in list){\n",
    "    var maxItem=item.Max(x=>int.Parse(x.value));\n",
    "    maxItem.Display();\n",
    "}"
   ]
  }
 ],
 "metadata": {
  "kernelspec": {
   "display_name": ".NET (C#)",
   "language": "C#",
   "name": ".net-csharp"
  },
  "language_info": {
   "file_extension": ".cs",
   "mimetype": "text/x-csharp",
   "name": "C#",
   "pygments_lexer": "csharp",
   "version": "9.0"
  },
  "orig_nbformat": 4
 },
 "nbformat": 4,
 "nbformat_minor": 2
}
