{
 "cells": [
  {
   "cell_type": "code",
   "execution_count": null,
   "metadata": {
    "dotnet_interactive": {
     "language": "csharp"
    }
   },
   "outputs": [
    {
     "name": "stdout",
     "output_type": "stream",
     "text": [
      "hi i am akhtarthan the sum of tow nuber\r\n",
      "ali is belong from USA and his age 2000, not disabl True ?....\r\n"
     ]
    }
   ],
   "source": [
    "//simple string in C#\n",
    "string s=\"hi i am akhtar\";\n",
    "string s2=\"than the sum of tow nuber\";\n",
    "\n",
    "Console.WriteLine(s+=s2);\n",
    "\n",
    "//string interpolation like string.format()\n",
    "var jh=(name:\"ali\",age:22,isDisable:true);\n",
    "Console.WriteLine($\"{jh.name} is belong from USA and his age {Math.Round((2018d - jh.age) / 100d) * 100d}, not disabl {jh.isDisable} ?....\");"
   ]
  },
  {
   "cell_type": "code",
   "execution_count": null,
   "metadata": {
    "dotnet_interactive": {
     "language": "csharp"
    }
   },
   "outputs": [
    {
     "name": "stdout",
     "output_type": "stream",
     "text": [
      "https://www.google.com\r\n"
     ]
    }
   ],
   "source": [
    "//https://www.google.com\n",
    "\n",
    "string protocal=\"https\";\n",
    "string link=\"www.google\";\n",
    "string dotCom=\"com\";\n",
    "string fullUrl=$\"{protocal}://{link}.{dotCom}\";\n",
    "//string format\n",
    "fullUrl=string.Format(\"{0}://{1}.{2}\",protocal,link,dotCom);\n",
    "Console.WriteLine(fullUrl);\n",
    "\n",
    "\n",
    "\n"
   ]
  },
  {
   "cell_type": "code",
   "execution_count": null,
   "metadata": {
    "dotnet_interactive": {
     "language": "csharp"
    }
   },
   "outputs": [
    {
     "name": "stdout",
     "output_type": "stream",
     "text": [
      "C# E\r\n",
      "Visual Basic Express\r\n",
      "7\r\n",
      "hi by\r\n"
     ]
    }
   ],
   "source": [
    "//Substring\n",
    "//substring(startstring,length)\n",
    "string s3=\"Visual C# Express\";\n",
    "Console.WriteLine(s3.Substring(7,4));\n",
    "\n",
    "//Replace word of string\n",
    "Console.WriteLine(s3.Replace(\"C#\",\"Basic\"));\n",
    "//IndexOf\n",
    "Console.WriteLine(s3.IndexOf(\"C\"));\n",
    "\n",
    "\n",
    "string s1=\"hi\";\n",
    "string s2=\" by\";\n",
    "Console.WriteLine(string.Concat(s1,s2));"
   ]
  },
  {
   "cell_type": "code",
   "execution_count": null,
   "metadata": {
    "dotnet_interactive": {
     "language": "csharp"
    }
   },
   "outputs": [
    {
     "name": "stdout",
     "output_type": "stream",
     "text": [
      "-1\r\n",
      "False\r\n",
      "C#          Programming111\r\n",
      "True\r\n"
     ]
    }
   ],
   "source": [
    "//compare two string\n",
    "   // create string\n",
    "   string str1 = \"             C#          Programming111         \";\n",
    "   string str2 = \"C# Programming\";\n",
    "   string str3 = \"Programiz\";\n",
    "   Console.WriteLine(str1.CompareTo(str2));\n",
    "   Console.WriteLine(str1.Equals(str2));\n",
    "\n",
    "\n",
    "   //Trim remove extra spaces\n",
    "   Console.WriteLine(str1.Trim());\n",
    "   //contains return true or false it check wheather it can word or not \n",
    "   Console.WriteLine(str2.Contains(\"C#\"));"
   ]
  },
  {
   "cell_type": "code",
   "execution_count": null,
   "metadata": {
    "dotnet_interactive": {
     "language": "csharp"
    }
   },
   "outputs": [
    {
     "name": "stdout",
     "output_type": "stream",
     "text": [
      "C\r\n",
      "#\r\n",
      " \r\n",
      "i\r\n",
      "s\r\n",
      " \r\n",
      "P\r\n",
      "r\r\n",
      "o\r\n",
      "g\r\n",
      "r\r\n",
      "a\r\n",
      "m\r\n",
      "m\r\n",
      "i\r\n",
      "n\r\n",
      "g\r\n",
      " \r\n",
      "l\r\n",
      "a\r\n",
      "n\r\n",
      "g\r\n",
      "u\r\n",
      "a\r\n",
      "g\r\n",
      "e\r\n"
     ]
    }
   ],
   "source": [
    "//convert string into char array\n",
    "string str1=\"C# is Programming language\";\n",
    "char[] myArray=str1.ToCharArray();\n",
    "foreach(char c in myArray){\n",
    "    Console.WriteLine(c);\n",
    "}"
   ]
  },
  {
   "cell_type": "code",
   "execution_count": null,
   "metadata": {
    "dotnet_interactive": {
     "language": "csharp"
    }
   },
   "outputs": [
    {
     "name": "stdout",
     "output_type": "stream",
     "text": [
      "C#\r\n",
      "is\r\n",
      "Language\r\n",
      "Microsoft\r\n"
     ]
    }
   ],
   "source": [
    "//split (string on th supplied value return string of array)\n",
    "str2=\"C#-is-Language-Microsoft\";\n",
    "string[] splitArray=str2.Split(\"-\");\n",
    "foreach(string s in splitArray){\n",
    "    Console.WriteLine(s);\n",
    "}"
   ]
  },
  {
   "cell_type": "code",
   "execution_count": null,
   "metadata": {
    "dotnet_interactive": {
     "language": "csharp"
    }
   },
   "outputs": [
    {
     "name": "stdout",
     "output_type": "stream",
     "text": [
      "Akhtar Gul is 22 year old\r\n",
      "khan/............wali/............ali\r\n"
     ]
    }
   ],
   "source": [
    "//ToString() method return string convert any datatype into string\n",
    "\n",
    "string name=\"Akhtar Gul\";\n",
    "string[] nO={\"khan\",\"wali\",\"ali\"};\n",
    "int age=22;\n",
    "// Console.WriteLine($\"{name},{age}\");\n",
    "string authorInfo=string.Format(\"{0} is {1} year old\",name,age.ToString());\n",
    "Console.WriteLine(authorInfo);\n",
    "//join\n",
    "Console.WriteLine(string.Join(\"/............\",nO));"
   ]
  },
  {
   "cell_type": "code",
   "execution_count": null,
   "metadata": {
    "dotnet_interactive": {
     "language": "csharp"
    }
   },
   "outputs": [
    {
     "name": "stdout",
     "output_type": "stream",
     "text": [
      "The entire name is 'Michelle Violet Banks' \r\n",
      "New String1 : lle Violet Banks\r\n"
     ]
    }
   ],
   "source": [
    "string name = \"Michelle Violet Banks\";\n",
    "Console.WriteLine(\"The entire name is '{0}' \",name);\n",
    "Console.WriteLine(\"New String1 : \" + name.Remove(0,5));"
   ]
  }
 ],
 "metadata": {
  "kernelspec": {
   "display_name": ".NET (C#)",
   "language": "C#",
   "name": ".net-csharp"
  },
  "language_info": {
   "file_extension": ".cs",
   "mimetype": "text/x-csharp",
   "name": "C#",
   "pygments_lexer": "csharp",
   "version": "9.0"
  },
  "orig_nbformat": 4
 },
 "nbformat": 4,
 "nbformat_minor": 2
}
