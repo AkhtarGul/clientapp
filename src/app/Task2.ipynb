{
 "cells": [
  {
   "cell_type": "code",
   "execution_count": null,
   "metadata": {
    "dotnet_interactive": {
     "language": "csharp"
    }
   },
   "outputs": [],
   "source": [
    "public class Student{\n",
    "    public string Name{get;set;}\n",
    "    public List<Marks> Marks{get;set;}\n",
    "}\n",
    "public class Marks{\n",
    "    public string CourseCode {get;set;}\n",
    "    public long CourseMarks{get;set;}\n",
    "}"
   ]
  },
  {
   "cell_type": "code",
   "execution_count": null,
   "metadata": {
    "dotnet_interactive": {
     "language": "csharp"
    }
   },
   "outputs": [
    {
     "ename": "Error",
     "evalue": "(61,19): error CS1061: 'IGrouping<List<Marks>, Student>' does not contain a definition for 'courseMarks' and no accessible extension method 'courseMarks' accepting a first argument of type 'IGrouping<List<Marks>, Student>' could be found (are you missing a using directive or an assembly reference?)",
     "output_type": "error",
     "traceback": [
      "(61,19): error CS1061: 'IGrouping<List<Marks>, Student>' does not contain a definition for 'courseMarks' and no accessible extension method 'courseMarks' accepting a first argument of type 'IGrouping<List<Marks>, Student>' could be found (are you missing a using directive or an assembly reference?)"
     ]
    }
   ],
   "source": [
    "var studentList=new List<Student>{\n",
    "    new Student{\n",
    "        Name=\"john\",\n",
    "        Marks=new List<Marks>{\n",
    "            new Marks{\n",
    "                    CourseCode=\"Eng\",\n",
    "                    CourseMarks=45,\n",
    "                    },\n",
    "            new Marks{\n",
    "                CourseCode=\"Cs\",\n",
    "                CourseMarks=60,\n",
    "                     },\n",
    "            new Marks{\n",
    "                CourseCode=\"Cs\",\n",
    "                CourseMarks=60,\n",
    "                     }\n",
    "                             }\n",
    "              },\n",
    "              new Student{\n",
    "                Name=\"smith\",\n",
    "                Marks=new List<Marks>{\n",
    "                    new Marks{\n",
    "                            CourseCode=\"Eng\",\n",
    "                            CourseMarks=55,\n",
    "                            },\n",
    "                    new Marks{\n",
    "                        CourseCode=\"Cs\",\n",
    "                        CourseMarks=60,\n",
    "                             },\n",
    "                    new Marks{\n",
    "                        CourseCode=\"Cs\",\n",
    "                        CourseMarks=32,\n",
    "                             }\n",
    "                                     }\n",
    "                      },  new Student{\n",
    "                        Name=\"lower\",\n",
    "                        Marks=new List<Marks>{\n",
    "                            new Marks{\n",
    "                                    CourseCode=\"Eng\",\n",
    "                                    CourseMarks=75,\n",
    "                                    },\n",
    "                            new Marks{\n",
    "                                CourseCode=\"Cs\",\n",
    "                                CourseMarks=80,\n",
    "                                     },\n",
    "                            new Marks{\n",
    "                                CourseCode=\"Cs\",\n",
    "                                CourseMarks=43,\n",
    "                                     }\n",
    "                                             }\n",
    "                              }\n",
    "\n",
    "};\n",
    "studentList.Display();\n",
    "var student=studentList.Where(x=>x.Name==\"john\");\n",
    "// var marks=student.GroupBy(x=>x.Marks);\n",
    "student.Display();\n",
    "foreach(var i in student){\n",
    "   var marks= i.Marks.ToList();\n",
    "}\n",
    " foreach(var ii in marks){\n",
    "     ii.\n",
    " }"
   ]
  }
 ],
 "metadata": {
  "kernelspec": {
   "display_name": ".NET (C#)",
   "language": "C#",
   "name": ".net-csharp"
  },
  "language_info": {
   "file_extension": ".cs",
   "mimetype": "text/x-csharp",
   "name": "C#",
   "pygments_lexer": "csharp",
   "version": "9.0"
  },
  "orig_nbformat": 4
 },
 "nbformat": 4,
 "nbformat_minor": 2
}
