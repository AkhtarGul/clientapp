{
 "cells": [
  {
   "cell_type": "code",
   "execution_count": null,
   "metadata": {
    "dotnet_interactive": {
     "language": "csharp"
    }
   },
   "outputs": [
    {
     "data": {
      "text/plain": [
       "current seconds::41"
      ]
     },
     "metadata": {},
     "output_type": "display_data"
    },
    {
     "data": {
      "text/plain": [
       "odd"
      ]
     },
     "metadata": {},
     "output_type": "display_data"
    },
    {
     "data": {
      "text/plain": [
       "not even nor divide by 3,5"
      ]
     },
     "metadata": {},
     "output_type": "display_data"
    },
    {
     "data": {
      "text/plain": [
       "C#"
      ]
     },
     "metadata": {},
     "output_type": "display_data"
    },
    {
     "data": {
      "text/html": [
       "<table><thead><tr><th><i>index</i></th><th>value</th></tr></thead><tbody><tr><td>0</td><td><div class=\"dni-plaintext\">#</div></td></tr><tr><td>1</td><td><div class=\"dni-plaintext\">C</div></td></tr></tbody></table>"
      ]
     },
     "metadata": {},
     "output_type": "display_data"
    },
    {
     "data": {
      "text/plain": [
       "Conditionals"
      ]
     },
     "metadata": {},
     "output_type": "display_data"
    },
    {
     "data": {
      "text/html": [
       "<table><thead><tr><th><i>index</i></th><th>value</th></tr></thead><tbody><tr><td>0</td><td><div class=\"dni-plaintext\">s</div></td></tr><tr><td>1</td><td><div class=\"dni-plaintext\">l</div></td></tr><tr><td>2</td><td><div class=\"dni-plaintext\">a</div></td></tr><tr><td>3</td><td><div class=\"dni-plaintext\">n</div></td></tr><tr><td>4</td><td><div class=\"dni-plaintext\">o</div></td></tr><tr><td>5</td><td><div class=\"dni-plaintext\">i</div></td></tr><tr><td>6</td><td><div class=\"dni-plaintext\">t</div></td></tr><tr><td>7</td><td><div class=\"dni-plaintext\">i</div></td></tr><tr><td>8</td><td><div class=\"dni-plaintext\">d</div></td></tr><tr><td>9</td><td><div class=\"dni-plaintext\">n</div></td></tr><tr><td>10</td><td><div class=\"dni-plaintext\">o</div></td></tr><tr><td>11</td><td><div class=\"dni-plaintext\">C</div></td></tr></tbody></table>"
      ]
     },
     "metadata": {},
     "output_type": "display_data"
    },
    {
     "data": {
      "text/plain": [
       "and"
      ]
     },
     "metadata": {},
     "output_type": "display_data"
    },
    {
     "data": {
      "text/html": [
       "<table><thead><tr><th><i>index</i></th><th>value</th></tr></thead><tbody><tr><td>0</td><td><div class=\"dni-plaintext\">d</div></td></tr><tr><td>1</td><td><div class=\"dni-plaintext\">n</div></td></tr><tr><td>2</td><td><div class=\"dni-plaintext\">a</div></td></tr></tbody></table>"
      ]
     },
     "metadata": {},
     "output_type": "display_data"
    },
    {
     "data": {
      "text/plain": [
       "Loops"
      ]
     },
     "metadata": {},
     "output_type": "display_data"
    },
    {
     "data": {
      "text/html": [
       "<table><thead><tr><th><i>index</i></th><th>value</th></tr></thead><tbody><tr><td>0</td><td><div class=\"dni-plaintext\">s</div></td></tr><tr><td>1</td><td><div class=\"dni-plaintext\">p</div></td></tr><tr><td>2</td><td><div class=\"dni-plaintext\">o</div></td></tr><tr><td>3</td><td><div class=\"dni-plaintext\">o</div></td></tr><tr><td>4</td><td><div class=\"dni-plaintext\">L</div></td></tr></tbody></table>"
      ]
     },
     "metadata": {},
     "output_type": "display_data"
    },
    {
     "data": {
      "text/plain": [
       "for"
      ]
     },
     "metadata": {},
     "output_type": "display_data"
    },
    {
     "data": {
      "text/html": [
       "<table><thead><tr><th><i>index</i></th><th>value</th></tr></thead><tbody><tr><td>0</td><td><div class=\"dni-plaintext\">r</div></td></tr><tr><td>1</td><td><div class=\"dni-plaintext\">o</div></td></tr><tr><td>2</td><td><div class=\"dni-plaintext\">f</div></td></tr></tbody></table>"
      ]
     },
     "metadata": {},
     "output_type": "display_data"
    },
    {
     "data": {
      "text/plain": [
       "Beginners"
      ]
     },
     "metadata": {},
     "output_type": "display_data"
    },
    {
     "data": {
      "text/html": [
       "<table><thead><tr><th><i>index</i></th><th>value</th></tr></thead><tbody><tr><td>0</td><td><div class=\"dni-plaintext\">s</div></td></tr><tr><td>1</td><td><div class=\"dni-plaintext\">r</div></td></tr><tr><td>2</td><td><div class=\"dni-plaintext\">e</div></td></tr><tr><td>3</td><td><div class=\"dni-plaintext\">n</div></td></tr><tr><td>4</td><td><div class=\"dni-plaintext\">n</div></td></tr><tr><td>5</td><td><div class=\"dni-plaintext\">i</div></td></tr><tr><td>6</td><td><div class=\"dni-plaintext\">g</div></td></tr><tr><td>7</td><td><div class=\"dni-plaintext\">e</div></td></tr><tr><td>8</td><td><div class=\"dni-plaintext\">B</div></td></tr></tbody></table>"
      ]
     },
     "metadata": {},
     "output_type": "display_data"
    }
   ],
   "source": [
    "//Conditionals\n",
    "\n",
    "var seconds= DateTime.Now.Second;\n",
    "display(\"current seconds::\"+seconds);\n",
    "\n",
    "var ternary=(seconds%2==0)? (seconds%3==0? \"Even and multiple by 3\":\"Even\") :\"odd\";\n",
    "ternary.Display();\n",
    "if(seconds%2==0){\n",
    "    display(\"seconds are even: \"+ seconds);\n",
    "}\n",
    "else if(seconds%3==0){\n",
    "display(\"multipel by 3\");\n",
    "}\n",
    "else if(seconds%5==0){\n",
    "    display(\"mulitple by 5\");\n",
    "    }\n",
    "else if(seconds!=null && seconds%2==1){\n",
    "    display(\"not even nor divide by 3,5\");\n",
    "}\n",
    "\n",
    "\n",
    "\n",
    "string[] ii={\"C#\", \"Conditionals\",\"and\", \"Loops\", \"for\" ,\"Beginners\"};\n",
    "// ii.Display();\n",
    "foreach(string i in ii){\n",
    "    i.Display();\n",
    "    var iii=i.Reverse();\n",
    "    iii.Display();\n",
    "}\n",
    "//Conditional Logical AND\n",
    "//&& "
   ]
  },
  {
   "cell_type": "code",
   "execution_count": null,
   "metadata": {
    "dotnet_interactive": {
     "language": "csharp"
    }
   },
   "outputs": [
    {
     "data": {
      "text/plain": [
       "Ali"
      ]
     },
     "metadata": {},
     "output_type": "display_data"
    }
   ],
   "source": [
    "public class Student{\n",
    "    public string Name{get;set;}\n",
    "}\n",
    "var s=new Student{Name=\"Ali\"};\n",
    "// Student s=null;\n",
    "\n",
    "display(s?.Name?? \"Student not assigned yet..\");"
   ]
  },
  {
   "cell_type": "code",
   "execution_count": null,
   "metadata": {
    "dotnet_interactive": {
     "language": "csharp"
    }
   },
   "outputs": [
    {
     "data": {
      "text/plain": [
       "Have a Thursday"
      ]
     },
     "metadata": {},
     "output_type": "display_data"
    }
   ],
   "source": [
    "//Switch Statement\n",
    "var  dayOfWeeks=DateTime.Now.DayOfWeek;\n",
    "switch(dayOfWeeks){\n",
    "    case DayOfWeek.Monday:\n",
    "    case DayOfWeek.Tuesday:\n",
    "    case DayOfWeek.Wednesday:\n",
    "    display(\"Have a Monday\");\n",
    "    break;\n",
    "    // case DayOfWeek.Tuesday:\n",
    "    // display(\"Have a Tuesday\");\n",
    "    // break;\n",
    "    // case DayOfWeek.Wednesday:\n",
    "    // display(\"Have a Wednesday\");\n",
    "    // break;\n",
    "    case DayOfWeek.Thursday:\n",
    "    display(\"Have a Thursday\");\n",
    "    break;\n",
    "    case DayOfWeek.Friday:\n",
    "    display(\"Have a Friday\");\n",
    "    break;\n",
    "    case DayOfWeek.Saturday:\n",
    "    display(\"Have a Saturday\");\n",
    "    break;\n",
    "    case DayOfWeek.Sunday:\n",
    "    display(\"Have a Sunday\");\n",
    "    break;\n",
    "    default:\n",
    "    display(\"Not Match\");\n",
    "    break;\n",
    "    \n",
    "\n",
    "}"
   ]
  }
 ],
 "metadata": {
  "kernelspec": {
   "display_name": ".NET (C#)",
   "language": "C#",
   "name": ".net-csharp"
  },
  "language_info": {
   "file_extension": ".cs",
   "mimetype": "text/x-csharp",
   "name": "C#",
   "pygments_lexer": "csharp",
   "version": "9.0"
  },
  "orig_nbformat": 4
 },
 "nbformat": 4,
 "nbformat_minor": 2
}
