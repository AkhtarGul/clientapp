{
 "cells": [
  {
   "cell_type": "code",
   "execution_count": null,
   "metadata": {
    "dotnet_interactive": {
     "language": "csharp"
    }
   },
   "outputs": [
    {
     "name": "stdout",
     "output_type": "stream",
     "text": [
      "Hello to C#\r\n",
      "John is a student. Age is 22\r\n",
      "There once a man named John-\r\n",
      "There once a man named:John\r\n",
      "He was 22 years old.\r\n"
     ]
    }
   ],
   "source": [
    "                                            //C# Full Detail Course Basic to High Level\n",
    "Console.WriteLine(\"Hello to C#\");\n",
    "string charaterName=\"John\";\n",
    "int age=22;\n",
    "Console.WriteLine(\"{0} is a student. Age is {1}\",charaterName,age);\n",
    "Console.WriteLine($\"There once a man named {charaterName}-\");\n",
    "Console.WriteLine(\"There once a man named:\"+charaterName);\n",
    "Console.WriteLine($\"He was {age} years old.\");"
   ]
  },
  {
   "cell_type": "code",
   "execution_count": null,
   "metadata": {
    "dotnet_interactive": {
     "language": "csharp"
    }
   },
   "outputs": [
    {
     "name": "stdout",
     "output_type": "stream",
     "text": [
      "17\r\n",
      "PAYACTIV ACADEMNY\r\n",
      "-1\r\n",
      "Academny\r\n",
      "Aca\r\n"
     ]
    }
   ],
   "source": [
    "    // String complete implementation\n",
    "    string pharse=\"Payactiv Academny\";\n",
    "\n",
    "    //length operator\n",
    "    Console.WriteLine(pharse.Length);\n",
    "    //ToUpper()\n",
    "    Console.WriteLine(pharse.ToUpper()); \n",
    "    //1st index of string\n",
    "    Console.WriteLine(pharse.IndexOf(\"z\"));\n",
    "    //substrings\n",
    "    Console.WriteLine(pharse.Substring(9));\n",
    "    //get 3 char via substrings\n",
    "    Console.WriteLine(pharse.Substring(9,3));\n",
    "    \n"
   ]
  },
  {
   "cell_type": "code",
   "execution_count": null,
   "metadata": {
    "dotnet_interactive": {
     "language": "csharp"
    }
   },
   "outputs": [
    {
     "name": "stdout",
     "output_type": "stream",
     "text": [
      "4\r\n",
      "numbers 1\r\n",
      "numbers 3\r\n",
      "numbers 5\r\n",
      "numbers 7\r\n",
      "System.Collections.Generic.List`1[System.String]\r\n",
      "New York\r\n",
      "London\r\n",
      "Mumbai\r\n",
      "Chicago\r\n",
      "New York\r\n",
      "London\r\n",
      "Mumbai\r\n",
      "Chicago\r\n",
      "Remove Dups:New York\r\n",
      "Remove Dups:London\r\n",
      "Remove Dups:Mumbai\r\n",
      "Remove Dups:Chicago\r\n"
     ]
    }
   ],
   "source": [
    "//Arrays\n",
    "int[] luckyNumbers={4,8,15,16,23,42};\n",
    "Console.WriteLine(luckyNumbers[0]);\n",
    "    //creating generic list <T>\n",
    "    List<int> primeNumbers=new List<int>();\n",
    "    primeNumbers.Add(1);\n",
    "    primeNumbers.Add(3);\n",
    "    primeNumbers.Add(5);\n",
    "    primeNumbers.Add(7);\n",
    "    // primeNumbers.Add();\n",
    "    foreach(int i in primeNumbers){\n",
    "    Console.WriteLine($\"numbers {i}\");\n",
    "}\n",
    "\n",
    "var cities = new List<string>();\n",
    "cities.Add(\"New York\");\n",
    "cities.Add(\"London\");\n",
    "cities.Add(\"Mumbai\");\n",
    "cities.Add(\"Chicago\");\n",
    "Console.WriteLine(cities);\n",
    "\n",
    "var bigCities = new List<string>()\n",
    "                    {\n",
    "                        \"New York\",\n",
    "                        \"London\",\n",
    "                        \"Mumbai\",\n",
    "                        \"Chicago\"                    \n",
    "                    };\n",
    "                    \n",
    "var listcities=cities.Concat(bigCities);\n",
    "var noDupes=listcities.Distinct().ToList();\n",
    "foreach(var i in listcities){\n",
    "    Console.WriteLine(i);\n",
    "}\n",
    "foreach(var i in noDupes.){\n",
    "    // Console.WriteLine(i);\n",
    "    Console.WriteLine(\"Remove Dups:\"+i);\n",
    "}"
   ]
  },
  {
   "cell_type": "code",
   "execution_count": null,
   "metadata": {
    "dotnet_interactive": {
     "language": "csharp"
    }
   },
   "outputs": [
    {
     "name": "stdout",
     "output_type": "stream",
     "text": [
      "Key: 1, Value: ali\r\n",
      "Key: 2, Value: khan\r\n",
      "Key: 3, Value: wali\r\n"
     ]
    }
   ],
   "source": [
    "//Dictionary C#\n",
    "var studentNames=new Dictionary<int,string>();\n",
    "\n",
    "studentNames.Add(1,\"ali\");\n",
    "studentNames.Add(2,\"khan\");\n",
    "studentNames.Add(3,\"wali\");\n",
    "foreach(var kvp in studentNames){\n",
    "    Console.WriteLine($\"Key: {kvp.Key}, Value: { kvp.Value}\");\n",
    "}"
   ]
  }
 ],
 "metadata": {
  "kernelspec": {
   "display_name": ".NET (C#)",
   "language": "C#",
   "name": ".net-csharp"
  },
  "language_info": {
   "file_extension": ".cs",
   "mimetype": "text/x-csharp",
   "name": "C#",
   "pygments_lexer": "csharp",
   "version": "9.0"
  },
  "orig_nbformat": 4
 },
 "nbformat": 4,
 "nbformat_minor": 2
}
